{
 "cells": [
  {
   "cell_type": "code",
   "execution_count": 1,
   "metadata": {},
   "outputs": [],
   "source": [
    "import numpy as np\n",
    "import matplotlib.pyplot as plt\n",
    "import pandas as pd\n",
    "import os\n",
    "%matplotlib inline"
   ]
  },
  {
   "cell_type": "code",
   "execution_count": 2,
   "metadata": {
    "scrolled": false
   },
   "outputs": [
    {
     "name": "stdout",
     "output_type": "stream",
     "text": [
      "*** No CODEPAGE record, no encoding_override: will use 'ascii'\n",
      "12.692857142857141 33.666666666666664\n"
     ]
    },
    {
     "data": {
      "image/png": "[encoded data removed]",
      "text/plain": [
       "<Figure size 432x288 with 1 Axes>"
      ]
     },
     "metadata": {
      "needs_background": "light"
     },
     "output_type": "display_data"
    }
   ],
   "source": [
    "# Loding Dataset\n",
    "_location_=os.path.dirname(os.path.realpath('_file_'))\n",
    "filepath=os.path.join(_location_,'fire_theft.xls')\n",
    "df=pd.read_excel(filepath)\n",
    "# x=fires/1000 house\n",
    "# y=theft/1000 population\n",
    "x, y=np.array(df['X']), np.array(df['Y'])\n",
    "x.resize(len(x),1)\n",
    "y.resize(len(y),1)\n",
    "plt.scatter(x,y)\n",
    "print(np.mean(x),np.mean(y))\n",
    "plt.xlabel('Fire per 1000 houses',fontsize=13)\n",
    "plt.ylabel('Theft per 1000 population',fontsize=13)\n",
    "plt.show()"
   ]
  },
  {
   "cell_type": "code",
   "execution_count": 3,
   "metadata": {},
   "outputs": [],
   "source": [
    "def cost(x,y,theta=[0,0]):\n",
    "    m=len(y)    # total number of training examples\n",
    "    squared_error=0.0\n",
    "    for i in range(m):\n",
    "        squared_error += ((theta[0]+theta[1]*x[i])-y[i])**2\n",
    "    J=squared_error/(2*m)    # cost\n",
    "    return J"
   ]
  },
  {
   "cell_type": "code",
   "execution_count": 4,
   "metadata": {},
   "outputs": [],
   "source": [
    "def gradient_descent(x,y,theta=[0,0],learning_rate=0.001,iterations=1500):\n",
    "    m=len(y)    # total number of training examples\n",
    "    X=np.column_stack((np.ones((m,1)),x))    # X=[1 x1; 2 x2; ...;m xm]\n",
    "    J=[]\n",
    "    theta=np.matrix(theta,dtype=float).T\n",
    "    \n",
    "    for i in range(iterations):\n",
    "        hx=np.array(X@theta)\n",
    "        error=np.array(hx-y)\n",
    "        theta[0][0]=theta[0][0]-learning_rate*(np.sum(error)/m)\n",
    "        theta[1][0]=theta[1][0]-learning_rate*(np.sum(error*x)/m)\n",
    "        t=theta.tolist()\n",
    "        J.append(cost(x,y,[t[0][0],t[1][0]]))\n",
    "        \n",
    "    theta=theta.tolist()\n",
    "    plt.plot([x for x in range(iterations)],J)\n",
    "    plt.xlabel('Number of iterations',fontsize=13)\n",
    "    plt.ylabel('J(theta)',fontsize=13)\n",
    "    plt.show()\n",
    "    return [theta[0][0], theta[1][0]]"
   ]
  },
  {
   "cell_type": "code",
   "execution_count": null,
   "metadata": {},
   "outputs": [],
   "source": [
    "theta=gradient_descent(x,y,iterations=20000)    # calculating values of the parameters\n",
    "print('Value of parametrs=',theta)\n",
    "print('Cost=',cost(x,y,theta))    # cost of the hypothesis\n",
    "X=np.column_stack((np.ones((len(x),1)),x))\n",
    "theta=np.matrix(theta,dtype=float).T\n",
    "hx=np.array(X@theta)\n",
    "plt.scatter(x,y)\n",
    "plt.scatter(np.mean(x),np.mean(y))\n",
    "plt.plot(x,hx,'g')\n",
    "plt.legend(['hypothesis function','dataset','mean of dataset'])\n",
    "plt.xlabel('Fire per 1000 houses',fontsize=13)\n",
    "plt.ylabel('Theft per 1000 population',fontsize=13)\n",
    "plt.show()"
   ]
  },
  {
   "cell_type": "code",
   "execution_count": null,
   "metadata": {},
   "outputs": [],
   "source": [
    "theta=theta.tolist()\n",
    "theta=[theta[0][0], theta[1][0]]\n",
    "# now if x=50\n",
    "y_prediction=theta[0]+theta[1]*50;\n",
    "print('When x=50 then predicted value=',y_prediction)"
   ]
  }
 ],
 "metadata": {
  "kernelspec": {
   "display_name": "Python 3",
   "language": "python",
   "name": "python3"
  },
  "language_info": {
   "codemirror_mode": {
    "name": "ipython",
    "version": 3
   },
   "file_extension": ".py",
   "mimetype": "text/x-python",
   "name": "python",
   "nbconvert_exporter": "python",
   "pygments_lexer": "ipython3",
   "version": "3.7.0"
  }
 },
 "nbformat": 4,
 "nbformat_minor": 2
}
